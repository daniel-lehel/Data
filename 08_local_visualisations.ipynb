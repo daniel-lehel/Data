{
 "cells": [
  {
   "cell_type": "code",
   "execution_count": 52,
   "metadata": {},
   "outputs": [],
   "source": [
    "from io import StringIO\n",
    "import boto3\n",
    "import pandas as pd\n",
    "import os\n",
    "\n",
    "pd.set_option('display.max_columns', 50)"
   ]
  },
  {
   "cell_type": "code",
   "execution_count": 12,
   "metadata": {},
   "outputs": [],
   "source": [
    "aws_access_key_id = os.getenv('AWS_access_key')\n",
    "aws_secret_access_key = os.getenv('AWS_secret_access_key')"
   ]
  },
  {
   "cell_type": "code",
   "execution_count": 13,
   "metadata": {},
   "outputs": [],
   "source": [
    "def read_csv_from_s3(bucket: str, path: str, filename: str) -> pd.DataFrame:\n",
    "    \"\"\"\n",
    "    Reads a CSV file from an S3 bucket and returns its contents as a pandas DataFrame.\n",
    "\n",
    "    Args:\n",
    "        bucket (str): The name of the S3 bucket where the file is stored.\n",
    "        path (str): The path or prefix within the bucket where the file is located.\n",
    "        filename (str): The name of the file to be read.\n",
    "\n",
    "    Returns:\n",
    "        pd.DataFrame: A pandas DataFrame containing the content of the CSV file.\n",
    "\n",
    "    Raises:\n",
    "        botocore.exceptions.ClientError: If there is an error accessing the S3 bucket or file.\n",
    "        UnicodeDecodeError: If the file cannot be decoded as UTF-8.\n",
    "        pd.errors.EmptyDataError: If the file is empty or cannot be parsed as CSV.\n",
    "    \"\"\"\n",
    "    s3 = boto3.client('s3', aws_access_key_id = aws_access_key_id, aws_secret_access_key = aws_secret_access_key)\n",
    "    \n",
    "    full_path = f'{path}{filename}'\n",
    "\n",
    "    object = s3.get_object(Bucket = bucket, Key = full_path)\n",
    "    object = object['Body'].read().decode('utf-8')\n",
    "    output_df = pd.read_csv(StringIO(object))\n",
    "\n",
    "    return output_df"
   ]
  },
  {
   "cell_type": "code",
   "execution_count": 23,
   "metadata": {},
   "outputs": [],
   "source": [
    "s3 = boto3.client('s3', aws_access_key_id = aws_access_key_id, aws_secret_access_key = aws_secret_access_key)\n",
    "bucket = 'cubix-chicago-taxi-ld'\n",
    "\n",
    "community_areas_path = 'transformed_data/community_areas/'\n",
    "company_path = 'transformed_data/company/'\n",
    "date_path = 'transformed_data/date/'\n",
    "payment_type_path = 'transformed_data/payment_type/'\n",
    "taxi_trips_path = 'transformed_data/taxi_trips/'\n",
    "weather_path = 'transformed_data/weather/'"
   ]
  },
  {
   "cell_type": "code",
   "execution_count": 18,
   "metadata": {},
   "outputs": [],
   "source": [
    "community_areas = read_csv_from_s3(bucket = bucket, path = community_areas_path, filename = 'community_areas_master.csv')\n",
    "company = read_csv_from_s3(bucket = bucket, path = company_path, filename = 'company_master.csv')\n",
    "date = read_csv_from_s3(bucket = bucket, path = date_path, filename = 'date_dimension.csv')\n",
    "payment_type = read_csv_from_s3(bucket = bucket, path = payment_type_path, filename = 'payment_type_master.csv')"
   ]
  },
  {
   "cell_type": "code",
   "execution_count": 25,
   "metadata": {},
   "outputs": [],
   "source": [
    "trips_list = []\n",
    "weather_list = []"
   ]
  },
  {
   "cell_type": "code",
   "execution_count": 26,
   "metadata": {},
   "outputs": [
    {
     "name": "stdout",
     "output_type": "stream",
     "text": [
      "taxi_2025-01-18.csv has been added.\n",
      "taxi_2025-01-19.csv has been added.\n",
      "taxi_2025-01-20.csv has been added.\n",
      "taxi_2025-01-21.csv has been added.\n",
      "taxi_2025-01-22.csv has been added.\n",
      "taxi_2025-01-23.csv has been added.\n",
      "taxi_2025-01-24.csv has been added.\n",
      "taxi_2025-01-25.csv has been added.\n",
      "taxi_2025-01-26.csv has been added.\n",
      "taxi_2025-01-27.csv has been added.\n",
      "taxi_2025-01-28.csv has been added.\n",
      "taxi_2025-01-29.csv has been added.\n"
     ]
    }
   ],
   "source": [
    "for file in s3.list_objects(Bucket = bucket, Prefix = taxi_trips_path)['Contents']:\n",
    "    taxi_trip_key = file['Key']\n",
    "\n",
    "    if taxi_trip_key.split('/')[-1].strip() != '':\n",
    "        if taxi_trip_key.split('.')[1] == 'csv':\n",
    "\n",
    "            filename = taxi_trip_key.split('/')[-1]\n",
    "            trip = read_csv_from_s3(bucket = bucket, path = taxi_trips_path, filename = filename)\n",
    "\n",
    "            trips_list.append(trip)\n",
    "            print(f'{filename} has been added.')\n"
   ]
  },
  {
   "cell_type": "code",
   "execution_count": 28,
   "metadata": {},
   "outputs": [],
   "source": [
    "trips = pd.concat(trips_list, ignore_index = True)"
   ]
  },
  {
   "cell_type": "code",
   "execution_count": 32,
   "metadata": {},
   "outputs": [
    {
     "data": {
      "text/plain": [
       "(145223, 20)"
      ]
     },
     "execution_count": 32,
     "metadata": {},
     "output_type": "execute_result"
    }
   ],
   "source": [
    "trips.shape"
   ]
  },
  {
   "cell_type": "code",
   "execution_count": 33,
   "metadata": {},
   "outputs": [
    {
     "name": "stdout",
     "output_type": "stream",
     "text": [
      "weather_2025-01-18.csv has been added.\n",
      "weather_2025-01-19.csv has been added.\n",
      "weather_2025-01-20.csv has been added.\n",
      "weather_2025-01-21.csv has been added.\n",
      "weather_2025-01-22.csv has been added.\n",
      "weather_2025-01-23.csv has been added.\n",
      "weather_2025-01-24.csv has been added.\n",
      "weather_2025-01-25.csv has been added.\n",
      "weather_2025-01-26.csv has been added.\n",
      "weather_2025-01-27.csv has been added.\n",
      "weather_2025-01-28.csv has been added.\n",
      "weather_2025-01-29.csv has been added.\n"
     ]
    }
   ],
   "source": [
    "for file in s3.list_objects(Bucket = bucket, Prefix = weather_path)['Contents']:\n",
    "    weather_key = file['Key']\n",
    "\n",
    "    if weather_key.split('/')[-1].strip() != '':\n",
    "        if weather_key.split('.')[1] == 'csv':\n",
    "\n",
    "            filename = weather_key.split('/')[-1]\n",
    "            weather_daily = read_csv_from_s3(bucket = bucket, path = weather_path, filename = filename)\n",
    "\n",
    "            weather_list.append(weather_daily)\n",
    "            print(f'{filename} has been added.')\n"
   ]
  },
  {
   "cell_type": "code",
   "execution_count": 34,
   "metadata": {},
   "outputs": [],
   "source": [
    "weather = pd.concat(weather_list, ignore_index = True)"
   ]
  },
  {
   "cell_type": "code",
   "execution_count": 104,
   "metadata": {},
   "outputs": [],
   "source": [
    "# join all the dataframes together\n",
    "\n",
    "trips_full = pd.merge(trips, weather, left_on = 'datetime_for_weather', right_on = 'datetime', how = 'inner')\n",
    "trips_full = trips_full.drop(columns = ['datetime'])"
   ]
  },
  {
   "cell_type": "code",
   "execution_count": 105,
   "metadata": {},
   "outputs": [],
   "source": [
    "trips_full = pd.merge(trips_full, company, left_on = 'company_id', right_on = 'company_id', how = 'inner')\n",
    "trips_full = trips_full.drop(columns = ['company_id'])"
   ]
  },
  {
   "cell_type": "code",
   "execution_count": 106,
   "metadata": {},
   "outputs": [],
   "source": [
    "trips_full = pd.merge(trips_full, payment_type, left_on = 'payment_type_id', right_on = 'payment_type_id', how = 'inner')\n",
    "trips_full = trips_full.drop(columns = ['payment_type_id'])"
   ]
  },
  {
   "cell_type": "code",
   "execution_count": 107,
   "metadata": {},
   "outputs": [],
   "source": [
    "trips_full = pd.merge(trips_full, community_areas, left_on = 'pickup_community_area_id', right_on = 'area_code', how = 'inner')\n",
    "trips_full = trips_full.drop(columns = ['pickup_community_area_id', 'area_code'])\n",
    "trips_full.rename(columns = {'community_name':'pickup_community_area_name'}, inplace = True)"
   ]
  },
  {
   "cell_type": "code",
   "execution_count": 108,
   "metadata": {},
   "outputs": [],
   "source": [
    "trips_full = pd.merge(trips_full, community_areas, left_on = 'dropoff_community_area_id', right_on = 'area_code', how = 'inner')\n",
    "trips_full = trips_full.drop(columns = ['dropoff_community_area_id', 'area_code'])\n",
    "trips_full.rename(columns = {'community_name':'dropoff_community_area_name'}, inplace = True)"
   ]
  },
  {
   "cell_type": "code",
   "execution_count": 109,
   "metadata": {},
   "outputs": [],
   "source": [
    "date['date'] = pd.to_datetime(date['date'])\n",
    "trips_full['trip_start_timestamp'] = pd.to_datetime(trips_full['trip_start_timestamp'])\n",
    "\n",
    "trips_full['trip_start_date'] = trips_full['trip_start_timestamp'].dt.date\n",
    "trips_full['trip_start_date'] = pd.to_datetime(trips_full['trip_start_date'])"
   ]
  },
  {
   "cell_type": "code",
   "execution_count": 110,
   "metadata": {},
   "outputs": [],
   "source": [
    "trips_full = pd.merge(trips_full, date, left_on = 'trip_start_date', right_on = 'date', how = 'inner')\n",
    "trips_full = trips_full.drop(columns = ['date'])"
   ]
  },
  {
   "cell_type": "code",
   "execution_count": 111,
   "metadata": {},
   "outputs": [
    {
     "data": {
      "text/html": [
       "<div>\n",
       "<style scoped>\n",
       "    .dataframe tbody tr th:only-of-type {\n",
       "        vertical-align: middle;\n",
       "    }\n",
       "\n",
       "    .dataframe tbody tr th {\n",
       "        vertical-align: top;\n",
       "    }\n",
       "\n",
       "    .dataframe thead th {\n",
       "        text-align: right;\n",
       "    }\n",
       "</style>\n",
       "<table border=\"1\" class=\"dataframe\">\n",
       "  <thead>\n",
       "    <tr style=\"text-align: right;\">\n",
       "      <th></th>\n",
       "      <th>trip_id</th>\n",
       "      <th>taxi_id</th>\n",
       "      <th>trip_start_timestamp</th>\n",
       "      <th>trip_end_timestamp</th>\n",
       "      <th>trip_seconds</th>\n",
       "      <th>trip_miles</th>\n",
       "      <th>fare</th>\n",
       "      <th>tips</th>\n",
       "      <th>tolls</th>\n",
       "      <th>extras</th>\n",
       "      <th>trip_total</th>\n",
       "      <th>pickup_centroid_latitude</th>\n",
       "      <th>pickup_centroid_longitude</th>\n",
       "      <th>dropoff_centroid_latitude</th>\n",
       "      <th>dropoff_centroid_longitude</th>\n",
       "      <th>datetime_for_weather</th>\n",
       "      <th>tempretaure</th>\n",
       "      <th>wind_speed</th>\n",
       "      <th>rain</th>\n",
       "      <th>precipitation</th>\n",
       "      <th>company</th>\n",
       "      <th>payment_type</th>\n",
       "      <th>pickup_community_area_name</th>\n",
       "      <th>dropoff_community_area_name</th>\n",
       "      <th>trip_start_date</th>\n",
       "      <th>year</th>\n",
       "      <th>month</th>\n",
       "      <th>day</th>\n",
       "      <th>day_of_week</th>\n",
       "      <th>is_weekend</th>\n",
       "    </tr>\n",
       "  </thead>\n",
       "  <tbody>\n",
       "    <tr>\n",
       "      <th>0</th>\n",
       "      <td>0706835645a030fb56452671b41ed76f0eabd4dc</td>\n",
       "      <td>2f8c51760f8358b29119959a9a4864d3d320e18a642b59...</td>\n",
       "      <td>2025-01-18 23:45:00</td>\n",
       "      <td>2025-01-18T23:45:00.000</td>\n",
       "      <td>492</td>\n",
       "      <td>0.58</td>\n",
       "      <td>9.50</td>\n",
       "      <td>2.83</td>\n",
       "      <td>0.0</td>\n",
       "      <td>0.0</td>\n",
       "      <td>12.83</td>\n",
       "      <td>41.899602</td>\n",
       "      <td>-87.633308</td>\n",
       "      <td>41.901207</td>\n",
       "      <td>-87.676356</td>\n",
       "      <td>2025-01-18 23:00:00</td>\n",
       "      <td>-4.5</td>\n",
       "      <td>11.5</td>\n",
       "      <td>0.0</td>\n",
       "      <td>0.0</td>\n",
       "      <td>Flash Cab</td>\n",
       "      <td>Mobile</td>\n",
       "      <td>Near North Side</td>\n",
       "      <td>West Town</td>\n",
       "      <td>2025-01-18</td>\n",
       "      <td>2025</td>\n",
       "      <td>1</td>\n",
       "      <td>18</td>\n",
       "      <td>6</td>\n",
       "      <td>True</td>\n",
       "    </tr>\n",
       "    <tr>\n",
       "      <th>1</th>\n",
       "      <td>ede0ad083099d1f42ddbf58886b360842758ac93</td>\n",
       "      <td>791d74df896226a452a8e223e2ec9fa0df7d80bb7ca180...</td>\n",
       "      <td>2025-01-18 23:45:00</td>\n",
       "      <td>2025-01-19T00:15:00.000</td>\n",
       "      <td>1009</td>\n",
       "      <td>3.41</td>\n",
       "      <td>13.78</td>\n",
       "      <td>2.87</td>\n",
       "      <td>0.0</td>\n",
       "      <td>0.0</td>\n",
       "      <td>17.15</td>\n",
       "      <td>41.874005</td>\n",
       "      <td>-87.663518</td>\n",
       "      <td>41.944227</td>\n",
       "      <td>-87.655998</td>\n",
       "      <td>2025-01-18 23:00:00</td>\n",
       "      <td>-4.5</td>\n",
       "      <td>11.5</td>\n",
       "      <td>0.0</td>\n",
       "      <td>0.0</td>\n",
       "      <td>Tac - Checker Cab Dispatch</td>\n",
       "      <td>Mobile</td>\n",
       "      <td>Near West Side</td>\n",
       "      <td>Lake View</td>\n",
       "      <td>2025-01-18</td>\n",
       "      <td>2025</td>\n",
       "      <td>1</td>\n",
       "      <td>18</td>\n",
       "      <td>6</td>\n",
       "      <td>True</td>\n",
       "    </tr>\n",
       "  </tbody>\n",
       "</table>\n",
       "</div>"
      ],
      "text/plain": [
       "                                    trip_id  \\\n",
       "0  0706835645a030fb56452671b41ed76f0eabd4dc   \n",
       "1  ede0ad083099d1f42ddbf58886b360842758ac93   \n",
       "\n",
       "                                             taxi_id trip_start_timestamp  \\\n",
       "0  2f8c51760f8358b29119959a9a4864d3d320e18a642b59...  2025-01-18 23:45:00   \n",
       "1  791d74df896226a452a8e223e2ec9fa0df7d80bb7ca180...  2025-01-18 23:45:00   \n",
       "\n",
       "        trip_end_timestamp  trip_seconds  trip_miles   fare  tips  tolls  \\\n",
       "0  2025-01-18T23:45:00.000           492        0.58   9.50  2.83    0.0   \n",
       "1  2025-01-19T00:15:00.000          1009        3.41  13.78  2.87    0.0   \n",
       "\n",
       "   extras  trip_total  pickup_centroid_latitude  pickup_centroid_longitude  \\\n",
       "0     0.0       12.83                 41.899602                 -87.633308   \n",
       "1     0.0       17.15                 41.874005                 -87.663518   \n",
       "\n",
       "   dropoff_centroid_latitude  dropoff_centroid_longitude datetime_for_weather  \\\n",
       "0                  41.901207                  -87.676356  2025-01-18 23:00:00   \n",
       "1                  41.944227                  -87.655998  2025-01-18 23:00:00   \n",
       "\n",
       "   tempretaure  wind_speed  rain  precipitation                     company  \\\n",
       "0         -4.5        11.5   0.0            0.0                   Flash Cab   \n",
       "1         -4.5        11.5   0.0            0.0  Tac - Checker Cab Dispatch   \n",
       "\n",
       "  payment_type pickup_community_area_name dropoff_community_area_name  \\\n",
       "0       Mobile            Near North Side                   West Town   \n",
       "1       Mobile             Near West Side                   Lake View   \n",
       "\n",
       "  trip_start_date  year  month  day  day_of_week  is_weekend  \n",
       "0      2025-01-18  2025      1   18            6        True  \n",
       "1      2025-01-18  2025      1   18            6        True  "
      ]
     },
     "execution_count": 111,
     "metadata": {},
     "output_type": "execute_result"
    }
   ],
   "source": [
    "trips_full.head(2)"
   ]
  },
  {
   "cell_type": "code",
   "execution_count": null,
   "metadata": {},
   "outputs": [],
   "source": []
  },
  {
   "cell_type": "code",
   "execution_count": null,
   "metadata": {},
   "outputs": [],
   "source": []
  }
 ],
 "metadata": {
  "kernelspec": {
   "display_name": "venv",
   "language": "python",
   "name": "python3"
  },
  "language_info": {
   "codemirror_mode": {
    "name": "ipython",
    "version": 3
   },
   "file_extension": ".py",
   "mimetype": "text/x-python",
   "name": "python",
   "nbconvert_exporter": "python",
   "pygments_lexer": "ipython3",
   "version": "3.13.1"
  }
 },
 "nbformat": 4,
 "nbformat_minor": 2
}
